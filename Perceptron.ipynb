{
 "cells": [
  {
   "cell_type": "markdown",
   "metadata": {},
   "source": [
    "Імпортуємо необхідні пакети"
   ]
  },
  {
   "cell_type": "code",
   "execution_count": null,
   "metadata": {},
   "outputs": [],
   "source": [
    "import os\n",
    "import pandas as pd\n",
    "\n",
    "from matplotlib import pyplot as plt\n",
    "plt.style.use('ggplot')  # красиві графіки"
   ]
  },
  {
   "cell_type": "markdown",
   "metadata": {},
   "source": [
    "Місце розташування jupyter notebook"
   ]
  },
  {
   "cell_type": "code",
   "execution_count": null,
   "metadata": {},
   "outputs": [],
   "source": [
    "pwd;"
   ]
  },
  {
   "cell_type": "code",
   "execution_count": null,
   "metadata": {},
   "outputs": [],
   "source": [
    "path = \"D:\\PROJECTS\\LABKI\\Lab\\Lab1\\sample3.csv\"\n",
    "\n",
    "data_file = pd.read_csv(path, header=None)\n",
    "data_file.head();"
   ]
  },
  {
   "cell_type": "markdown",
   "metadata": {},
   "source": [
    "Запам'ятовуємо назву стовпця, що відповідає класові даних"
   ]
  },
  {
   "cell_type": "code",
   "execution_count": null,
   "metadata": {},
   "outputs": [],
   "source": [
    "class_column = len(data_file.columns) - 1  # індекс останнього стовпця \"Клас\"\n",
    "class_column;"
   ]
  },
  {
   "cell_type": "markdown",
   "metadata": {},
   "source": [
    "Для візуалізації виділяємо унікальні класи даних, для розділення точок на графіку за кольором"
   ]
  },
  {
   "cell_type": "code",
   "execution_count": null,
   "metadata": {},
   "outputs": [],
   "source": [
    "data_unique_classes = data_file[class_column].unique()\n",
    "data_unique_classes;"
   ]
  },
  {
   "cell_type": "markdown",
   "metadata": {},
   "source": [
    "Підготовка даних"
   ]
  },
  {
   "cell_type": "code",
   "execution_count": null,
   "metadata": {},
   "outputs": [],
   "source": [
    "# https://stackoverflow.com/questions/33742588/pandas-split-dataframe-by-column-value\n",
    "# Розділяємо дані по класах, що зазначені у третьому стовпці (для візуалізації)\n",
    "def separate_by_unique_class(unique_class):\n",
    "    return data_file[data_file[class_column] == unique_class]\n",
    "\n",
    "# розділяє дані на два масиви: масив масивів даних та масив класів. Індекси одного масиву відповідають індексам іншого\n",
    "def cut_data_and_classes(data_file):\n",
    "    res_data = []\n",
    "    res_class = []\n",
    "    for index, val in data_file.iterrows():\n",
    "        dt, cls = _slice_data_row(val)\n",
    "        res_data.append(dt)\n",
    "        res_class.append(cls)\n",
    "    return res_data, res_class\n",
    "\n",
    "def _slice_data_row(row):\n",
    "    tmp_lst = list(row)\n",
    "    res_data = tmp_lst[:-1]  # слайс даних з масиву\n",
    "    res_cls = tmp_lst[-1]  # слайс класу з масиву\n",
    "    \n",
    "    return res_data, res_cls"
   ]
  },
  {
   "cell_type": "markdown",
   "metadata": {},
   "source": [
    "Функції для візуалізації точок, що розділені за класом"
   ]
  },
  {
   "cell_type": "code",
   "execution_count": null,
   "metadata": {},
   "outputs": [],
   "source": [
    "def add_data_to_plot(x, y):\n",
    "    plt.plot(x, y, 'o')\n",
    "\n",
    "def add_dots_to_plot(data_f, class_column_index:int, data_uniq_cls:list):\n",
    "    \n",
    "    # тільки якщо ми маємо справу із двовимірними даними\n",
    "    if class_column_index == 2:\n",
    "        \n",
    "        # проходимо по всіх унікальних класах \n",
    "        for d_cl in data_uniq_cls:\n",
    "            data = separate_by_unique_class(d_cl)\n",
    "            \n",
    "            add_data_to_plot(data[0], data[1]) \n",
    "    else:\n",
    "        pass"
   ]
  },
  {
   "cell_type": "markdown",
   "metadata": {},
   "source": [
    "Демонстрація графіку з точками"
   ]
  },
  {
   "cell_type": "code",
   "execution_count": null,
   "metadata": {},
   "outputs": [],
   "source": [
    "plt.figure(figsize=(15,15)) # налаштовуємо розміри відображення даних \n",
    "add_dots_to_plot(data_file, class_column, data_unique_classes)\n",
    "plt.show()"
   ]
  },
  {
   "cell_type": "markdown",
   "metadata": {},
   "source": [
    "-------------------------------------------------------------------------"
   ]
  },
  {
   "cell_type": "markdown",
   "metadata": {},
   "source": [
    "# Нейронна мережа"
   ]
  },
  {
   "cell_type": "markdown",
   "metadata": {},
   "source": [
    "Критерії зупинки навчання нейронної мережі"
   ]
  },
  {
   "cell_type": "code",
   "execution_count": null,
   "metadata": {},
   "outputs": [],
   "source": [
    "epoch_max = 1000\n",
    "error_max = 0"
   ]
  },
  {
   "cell_type": "markdown",
   "metadata": {},
   "source": [
    "Параметри налаштування ініціалізації нейронної мережі"
   ]
  },
  {
   "cell_type": "code",
   "execution_count": null,
   "metadata": {},
   "outputs": [],
   "source": [
    "data_dim = class_column  # змінна class_column відповідає виміру вхідних даних\n",
    "weights_start = 0.0\n",
    "learning_rate = 1."
   ]
  },
  {
   "cell_type": "markdown",
   "metadata": {},
   "source": [
    "Тіло нейронної мережі"
   ]
  },
  {
   "cell_type": "code",
   "execution_count": null,
   "metadata": {},
   "outputs": [],
   "source": [
    "# Масив представляє синаптичні ваги нейрону.\n",
    "# Кількість цих ваг рівна кількості вимірів даних для розпізнання + нейрон зміщення\n",
    "weights = [weights_start for i in range(data_dim + 1)]  # ініціалізуємо ваги для нейронів + нейрон зміщення"
   ]
  },
  {
   "cell_type": "markdown",
   "metadata": {},
   "source": [
    "Історія навчання нейромережі"
   ]
  },
  {
   "cell_type": "code",
   "execution_count": null,
   "metadata": {},
   "outputs": [],
   "source": [
    "history = []  # зберігання вагів, помилки та епохи при кожному зменшенні сумарної похибки відносно попередньої епохи\n",
    "\n",
    "def _history_line(weights, error, epoch):\n",
    "    lst = []\n",
    "    lst.append(weights)\n",
    "    lst.append(error)\n",
    "    lst.append(epoch)\n",
    "    return lst"
   ]
  },
  {
   "cell_type": "markdown",
   "metadata": {},
   "source": [
    "Методи для навчання нейромережі на наборі даних"
   ]
  },
  {
   "cell_type": "code",
   "execution_count": null,
   "metadata": {},
   "outputs": [],
   "source": [
    "# суматор або потенціал активації\n",
    "def calc_activation_potential(in_data, weight_lst):\n",
    "    result_sum = 0\n",
    "    \n",
    "    for i in range(1, len(weight_lst)):\n",
    "        result_sum = result_sum + (weight_lst[i] * in_data[i-1])\n",
    "    \n",
    "    result_sum = result_sum + weight_lst[0]    \n",
    "    \n",
    "    return result_sum\n",
    "\n",
    "# функція активації\n",
    "def phi(activ_potent):\n",
    "    if activ_potent >= 0:\n",
    "        return 1.0\n",
    "    else:\n",
    "        return 0.0\n",
    "    \n",
    "# оновлення вагів у процесі навчання\n",
    "def update_weights(in_weights:list, in_data:list, train_out_sig:int, curr_out_sig):\n",
    "    upd_weights = []\n",
    "    upd_weights.append(_calc_weight(in_weights[0], 1.0, train_out_sig, curr_out_sig)) # обрахування нейрона зміщення\n",
    "    \n",
    "    for i in range(1, len(in_weights)):\n",
    "        # індекс масиву даних починається з нуля, а потрібно дані множити на ваги нейронів починаючи з 1\n",
    "        upd_weights.append(_calc_weight(in_weights[i], in_data[i-1], train_out_sig, curr_out_sig))\n",
    "    \n",
    "    return upd_weights\n",
    "    \n",
    "def fit(data_data, data_class):\n",
    "    \n",
    "    global weights\n",
    "    global history\n",
    "\n",
    "    error_train = 0.\n",
    "    error_current_iter = 0.\n",
    "    error_prev_iter = 0.\n",
    "    \n",
    "    for i in range(1, epoch_max+1):\n",
    "        error_prev_iter = error_train    \n",
    "        error_train = 0.\n",
    "        \n",
    "        # навчання нейромережі\n",
    "        for j in range(len(data_data)):\n",
    "            activation_potential = calc_activation_potential(data_data[j], weights)\n",
    "            curr_out_signal = phi(activation_potential)\n",
    "            weights = update_weights(weights, data_data[j], data_class[j], curr_out_signal)\n",
    "        \n",
    "        # обрахування сумарної похибки\n",
    "        for j in range(len(data_data)):\n",
    "            activation_potential = calc_activation_potential(data_data[j], weights)\n",
    "            curr_out_signal = phi(activation_potential)\n",
    "            #-----------------------------------------------------------------        \n",
    "            error_current_iter = abs(data_class[j] - curr_out_signal)\n",
    "            error_train = error_train + error_current_iter\n",
    "        \n",
    "        if error_train < error_prev_iter:\n",
    "            history.append(_history_line(weights, error_train, i))\n",
    "            error_prev_iter = error_train\n",
    "        \n",
    "        if error_train <= error_max:\n",
    "            break\n",
    "                \n",
    "def _calc_weight(weight, in_data, train_out_sig, curr_out_sig):\n",
    "    return weight + ((learning_rate * in_data) * (train_out_sig - curr_out_sig))\n"
   ]
  },
  {
   "cell_type": "markdown",
   "metadata": {},
   "source": [
    "Процес навчання нейромережі на наборі даних"
   ]
  },
  {
   "cell_type": "code",
   "execution_count": null,
   "metadata": {},
   "outputs": [],
   "source": [
    "# підготовка вхідних даних\n",
    "data_data, data_classes = cut_data_and_classes(data_file)\n",
    "# навчання\n",
    "fit(data_data, data_classes)"
   ]
  },
  {
   "cell_type": "code",
   "execution_count": null,
   "metadata": {},
   "outputs": [],
   "source": [
    "# пошук елементу масиву 'history' з найменшою похибкою для того, щоб взяти відповідні ваги\n",
    "error_history = []\n",
    "for val in history:\n",
    "    error_history.append(val[-2])\n",
    "error_min = min(error_history)\n",
    "error_min_index = error_history.index(error_min)\n",
    "\n",
    "weights = list(history[error_min_index][0]) # ваги, що відповідають найменшій похибці\n"
   ]
  },
  {
   "cell_type": "markdown",
   "metadata": {},
   "source": [
    "# Вивід параметрів"
   ]
  },
  {
   "cell_type": "code",
   "execution_count": 243,
   "metadata": {},
   "outputs": [
    {
     "name": "stdout",
     "output_type": "stream",
     "text": [
      "Optimal weight were found after 966 epoch, and error was 9.0\n",
      "Weights are:\n",
      "[23.0, 7.757121204277954, 12.798327121085885, 12.806148437512297]\n",
      "\n"
     ]
    }
   ],
   "source": [
    "print(\"Optimal weight were found after {0} epoch, and error was {1}\".format(history[error_min_index][-1], error_min))\n",
    "print(\"Weights are:\\n{0}\\n\".format(weights))"
   ]
  },
  {
   "cell_type": "markdown",
   "metadata": {},
   "source": [
    "# Візуалізація результату навчання"
   ]
  },
  {
   "cell_type": "code",
   "execution_count": null,
   "metadata": {},
   "outputs": [],
   "source": [
    "def calc_trand_line(x_data:list, weights:list):\n",
    "    w0 = weights[0]\n",
    "    w1 = weights[1]\n",
    "    w2 = weights[2]\n",
    "    \n",
    "    x2 = []\n",
    "    for x1 in x_data:\n",
    "        val = (-1)*(w1/w2)*x1 - (w0/w2)\n",
    "        x2.append(val)\n",
    "    return x2\n",
    "\n",
    "x1 = [-20,-15, -10, -5, 0, 5, 10, 15, 20, 25, 30]\n",
    "x2 = list(calc_trand_line(x1, weights))\n",
    "\n",
    "for i in range(len(x1)):\n",
    "    print(f\"x1 = {x1[i]}   x2 = {x2[i]}\")\n"
   ]
  },
  {
   "cell_type": "markdown",
   "metadata": {},
   "source": [
    "Візуалізуємо розділення класів даних"
   ]
  },
  {
   "cell_type": "code",
   "execution_count": null,
   "metadata": {},
   "outputs": [],
   "source": [
    "plt.figure(figsize=(15,15)) # налаштовуємо розміри відображення даних \n",
    "add_dots_to_plot(data_file, class_column, data_unique_classes)\n",
    "plt.plot(x1, x2)\n",
    "plt.show()"
   ]
  },
  {
   "cell_type": "code",
   "execution_count": null,
   "metadata": {},
   "outputs": [],
   "source": []
  }
 ],
 "metadata": {
  "kernelspec": {
   "display_name": "Python 3",
   "language": "python",
   "name": "python3"
  },
  "language_info": {
   "codemirror_mode": {
    "name": "ipython",
    "version": 3
   },
   "file_extension": ".py",
   "mimetype": "text/x-python",
   "name": "python",
   "nbconvert_exporter": "python",
   "pygments_lexer": "ipython3",
   "version": "3.7.3"
  }
 },
 "nbformat": 4,
 "nbformat_minor": 2
}
